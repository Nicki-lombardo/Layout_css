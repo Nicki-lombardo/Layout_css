{
 "cells": [
  {
   "cell_type": "code",
   "execution_count": null,
   "metadata": {},
   "outputs": [],
   "source": []
  },
  {
   "cell_type": "markdown",
   "metadata": {},
   "source": [
    "HTML Responsive Web Design:\n",
    "\n",
    "Responsive web design is about creating web pages that look good on all devices!\n",
    "\n",
    "A responsive web design will automatically adjust for different screen sizes and viewports.\n",
    "\n",
    "What is Responsive Web Design?\n",
    "Responsive Web Design is about using HTML and CSS to automatically resize, hide, shrink, or enlarge, a website, to make it look good on all devices (desktops, tablets, and phones):"
   ]
  },
  {
   "cell_type": "code",
   "execution_count": null,
   "metadata": {},
   "outputs": [],
   "source": [
    "<!DOCTYPE html>\n",
    "<html>\n",
    "<head>\n",
    "<title>W3.CSS</title>\n",
    "<meta name=\"viewport\" content=\"width=device-width, initial-scale=1\">\n",
    "<link rel=\"stylesheet\" href=\"https://www.w3schools.com/w3css/4/w3.css\">\n",
    "</head>\n",
    "<body>\n",
    "\n",
    "<div class=\"w3-container w3-green\">\n",
    "  <h1>W3Schools Demo</h1> \n",
    "  <p>Resize this responsive page!</p> \n",
    "</div>\n",
    "\n",
    "<div class=\"w3-row-padding\">\n",
    "  <div class=\"w3-third\">\n",
    "    <h2>London</h2>\n",
    "    <p>London is the capital city of England.</p>\n",
    "    <p>It is the most populous city in the United Kingdom,\n",
    "    with a metropolitan area of over 13 million inhabitants.</p>\n",
    "  </div>\n",
    "\n",
    "  <div class=\"w3-third\">\n",
    "    <h2>Paris</h2>\n",
    "    <p>Paris is the capital of France.</p> \n",
    "    <p>The Paris area is one of the largest population centers in Europe,\n",
    "    with more than 12 million inhabitants.</p>\n",
    "  </div>\n",
    "\n",
    "  <div class=\"w3-third\">\n",
    "    <h2>Tokyo</h2>\n",
    "    <p>Tokyo is the capital of Japan.</p>\n",
    "    <p>It is the center of the Greater Tokyo Area,\n",
    "    and the most populous metropolitan area in the world.</p>\n",
    "  </div>\n",
    "</div>\n",
    "\n",
    "</body>\n",
    "</html>s\n",
    "\n"
   ]
  },
  {
   "cell_type": "markdown",
   "metadata": {},
   "source": [
    "Setting The Viewport\n",
    "To create a responsive website, add the following <meta> tag to all your web pages:"
   ]
  },
  {
   "cell_type": "code",
   "execution_count": null,
   "metadata": {},
   "outputs": [],
   "source": [
    "<!DOCTYPE html>\n",
    "<html>\n",
    "<head>\n",
    "<meta name=\"viewport\" content=\"width=device-width, initial-scale=1.0\">\n",
    "</head>\n",
    "<body>\n",
    "\n",
    "<h2>Setting the Viewport</h2>\n",
    "<p>This example does not really do anything, other than showing you how to add the viewport meta element.</p>\n",
    "\n",
    "</body>\n",
    "</html>"
   ]
  },
  {
   "cell_type": "markdown",
   "metadata": {},
   "source": [
    "Responsive Images\n",
    "Responsive images are images that scale nicely to fit any browser size.\n",
    "\n",
    "Using the width Property\n",
    "If the CSS width property is set to 100%, the image will be responsive and scale up and down:"
   ]
  },
  {
   "cell_type": "code",
   "execution_count": null,
   "metadata": {},
   "outputs": [],
   "source": [
    "<!DOCTYPE html>\n",
    "<html>\n",
    "<head>\n",
    "<meta name=\"viewport\" content=\"width=device-width, initial-scale=1.0\">\n",
    "</head>\n",
    "<body>\n",
    "\n",
    "<h2>Responsive Image</h2>\n",
    "<p>When the CSS width property is set in a percentage value, the image will scale up and down when resizing the browser window. Resize the browser window to see the effect.</p>\n",
    "\n",
    "<img src=\"img_girl.jpg\" style=\"width:100%;\">\n",
    "\n",
    "</body>\n",
    "</html>\n"
   ]
  },
  {
   "cell_type": "markdown",
   "metadata": {},
   "source": [
    "Notice that in the example above, the image can be scaled up to be larger than its original size. A better solution, in many cases, will be to use the max-width property instead.\n",
    "\n",
    "Using the max-width Property\n",
    "If the max-width property is set to 100%, the image will scale down if it has to, but never scale up to be larger than its original size:"
   ]
  },
  {
   "cell_type": "code",
   "execution_count": null,
   "metadata": {},
   "outputs": [],
   "source": [
    "<!DOCTYPE html>\n",
    "<html>\n",
    "<head>\n",
    "<meta name=\"viewport\" content=\"width=device-width, initial-scale=1.0\">\n",
    "</head>\n",
    "<body>\n",
    "\n",
    "<h2>Responsive Image</h2>\n",
    "<p>\"max-width:100%\" prevents the image from getting bigger than its original size. However, if you make the browser window smaller, the image will still scale down.</p>\n",
    "<p>Resize the browser window to see the effect.</p>\n",
    "\n",
    "<img src=\"img_girl.jpg\" style=\"max-width:100%;height:auto;\">\n",
    "\n",
    "</body>\n",
    "</html>"
   ]
  },
  {
   "cell_type": "markdown",
   "metadata": {},
   "source": [
    "Show Different Images Depending on Browser Width\n",
    "The HTML <picture> element allows you to define different images for different browser window sizes.\n",
    "\n",
    "Resize the browser window to see how the image below changes depending on the width:"
   ]
  },
  {
   "cell_type": "code",
   "execution_count": null,
   "metadata": {},
   "outputs": [],
   "source": [
    "<picture>\n",
    "  <source srcset=\"img_smallflower.jpg\" media=\"(max-width: 600px)\">\n",
    "  <source srcset=\"img_flowers.jpg\" media=\"(max-width: 1500px)\">\n",
    "  <source srcset=\"flowers.jpg\">\n",
    "  <img src=\"img_smallflower.jpg\" alt=\"Flowers\">\n",
    "</picture>"
   ]
  },
  {
   "cell_type": "markdown",
   "metadata": {},
   "source": [
    "Media Queries\n",
    "In addition to resize text and images, it is also common to use media queries in responsive web pages.\n",
    "\n",
    "With media queries you can define completely different styles for different browser sizes.\n",
    "\n",
    "Example: resize the browser window to see that the three div elements below will display horizontally on large screens and stack vertically on small screens:"
   ]
  },
  {
   "cell_type": "code",
   "execution_count": null,
   "metadata": {},
   "outputs": [],
   "source": [
    "<style>\n",
    ".left, .right {\n",
    "  float: left;\n",
    "  width: 20%; /* The width is 20%, by default */\n",
    "}\n",
    "\n",
    ".main {\n",
    "  float: left;\n",
    "  width: 60%; /* The width is 60%, by default */\n",
    "}\n",
    "\n",
    "/* Use a media query to add a breakpoint at 800px: */\n",
    "@media screen and (max-width: 800px) {\n",
    "  .left, .main, .right {\n",
    "    width: 100%; /* The width is 100%, when the viewport is 800px or smaller */\n",
    "  }\n",
    "}\n",
    "</style>"
   ]
  }
 ],
 "metadata": {
  "language_info": {
   "name": "python"
  }
 },
 "nbformat": 4,
 "nbformat_minor": 2
}
